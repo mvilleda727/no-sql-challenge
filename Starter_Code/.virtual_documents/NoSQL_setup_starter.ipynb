








# Import dependencies
from pymongo import MongoClient
from pprint import pprint


# Create an instance of MongoClient
mongo = MongoClient(port=27017)


# confirm that our new database was created
print(mongo.list_database_names())


# assign the uk_food database to a variable name
db = mongo['uk_food']


# review the collections in our new database
print(db.list_collection_names())


# review the collections in our new database



# review a document in the establishments collection



# assign the collection to a variable
establishments = db['establishments']








# Create a dictionary for the new restaurant data



# Insert the new restaurant into the collection



# Check that the new restaurant was inserted






# Find the BusinessTypeID for "Restaurant/Cafe/Canteen" and return only the BusinessTypeID and BusinessType fields






# Update the new restaurant with the correct BusinessTypeID



# Confirm that the new restaurant was updated






# Find how many documents have LocalAuthorityName as "Dover"



# Delete all documents where LocalAuthorityName is "Dover"



# Check if any remaining documents include Dover



# Check that other documents remain with 'find_one'









# Change the data type from String to Decimal for longitude and latitude






# Set non 1-5 Rating Values to Null
non_ratings = ["AwaitingInspection", "Awaiting Inspection", "AwaitingPublication", "Pass", "Exempt"]
establishments.update_many({"RatingValue": {"$in": non_ratings}}, [ {'$set':{ "RatingValue" : None}} ])


# Change the data type from String to Integer for RatingValue



# Check that the coordinates and rating value are now numbers

